{
 "cells": [
  {
   "cell_type": "code",
   "execution_count": 1,
   "id": "770794f8",
   "metadata": {},
   "outputs": [],
   "source": [
    "import pandas as pd\n",
    "import numpy as np\n",
    "import matplotlib.pyplot as plt"
   ]
  },
  {
   "cell_type": "code",
   "execution_count": 2,
   "id": "933b4c0d",
   "metadata": {},
   "outputs": [],
   "source": [
    "%matplotlib inline"
   ]
  },
  {
   "cell_type": "code",
   "execution_count": 3,
   "id": "afdbb333",
   "metadata": {},
   "outputs": [],
   "source": [
    "df=pd.read_csv('C:/Users/vasu/Desktop/dtr.csv')"
   ]
  },
  {
   "cell_type": "code",
   "execution_count": 4,
   "id": "daf76677",
   "metadata": {},
   "outputs": [],
   "source": [
    "from sklearn.impute import SimpleImputer\n",
    "from sklearn.pipeline import Pipeline\n",
    "from sklearn.preprocessing import MinMaxScaler\n",
    "from sklearn.preprocessing import OrdinalEncoder\n",
    "from sklearn.compose import ColumnTransformer\n",
    "from sklearn.model_selection import cross_val_score\n",
    "from sklearn.model_selection import train_test_split"
   ]
  },
  {
   "cell_type": "code",
   "execution_count": 18,
   "id": "e2a20cd4",
   "metadata": {},
   "outputs": [],
   "source": [
    "def data_cleaning(data):\n",
    "    la,ln=[],[]\n",
    "    for i in data.columns:\n",
    "        if type(df[i][0]) is str:\n",
    "            la.append(i)\n",
    "        else:\n",
    "            ln.append(i)\n",
    "    lt=ln+la\n",
    "    num_pip=Pipeline([('imputer',SimpleImputer(strategy='mean'))])\n",
    "    full_pip=ColumnTransformer([('num',num_pip,ln),('cat',OrdinalEncoder(),la)])\n",
    "    return pd.DataFrame(full_pip.fit_transform(data),columns=lt)"
   ]
  },
  {
   "cell_type": "code",
   "execution_count": 19,
   "id": "7959c96a",
   "metadata": {},
   "outputs": [],
   "source": [
    "df.dropna(inplace=True)\n",
    "clean_train_data=data_cleaning(df.drop(['Price'],axis=1))\n",
    "clean_train_data['Price']=df['Price']"
   ]
  },
  {
   "cell_type": "code",
   "execution_count": 20,
   "id": "17db12ca",
   "metadata": {},
   "outputs": [],
   "source": [
    "clean_train_data.dropna(inplace=True)"
   ]
  },
  {
   "cell_type": "code",
   "execution_count": 21,
   "id": "518ca132",
   "metadata": {},
   "outputs": [],
   "source": [
    "def model_selector(data):\n",
    "    models=pd.read_csv('C:/Users/vasu/Desktop/rmodels.csv.txt')\n",
    "    score=[]\n",
    "    loc={}\n",
    "    for i in range(0,models['head'].count()):\n",
    "            str2='model'+'='+models['head'][i]+'.'+models['family'][i]+'.'+models['name'][i]+'()'\n",
    "            str1=\"from \"+models['head'][i]+'.'+models['family'][i]+\" import \"+models['name'][i]+'\\n'+\"model=\"+models['name'][i]+'()'\n",
    "            print(str2)\n",
    "            exec(str1,globals(), loc)\n",
    "            model=loc['model']\n",
    "            x=cross_val_score(model,data.drop(['Price'],axis=1),data['Price'],scoring='neg_mean_squared_error',cv=10)\n",
    "            score.append(np.sqrt(-x))\n",
    "    return score\n",
    "            \n",
    "    "
   ]
  },
  {
   "cell_type": "code",
   "execution_count": 22,
   "id": "17364557",
   "metadata": {},
   "outputs": [
    {
     "name": "stdout",
     "output_type": "stream",
     "text": [
      "model=sklearn.linear_model.LinearRegression()\n",
      "model=sklearn.linear_model.Lasso()\n",
      "model=sklearn.linear_model.LassoCV()\n",
      "model=sklearn.linear_model.LassoLars()\n",
      "model=sklearn.linear_model.LassoLarsCV()\n",
      "model=sklearn.linear_model.LassoLarsIC()\n",
      "model=sklearn.neighbors.KNeighborsRegressor()\n",
      "model=sklearn.tree.DecisionTreeRegressor()\n",
      "model=sklearn.ensemble.AdaBoostRegressor()\n",
      "model=sklearn.ensemble.GradientBoostingRegressor()\n"
     ]
    }
   ],
   "source": [
    "s=model_selector(clean_train_data)\n",
    "\n",
    "    "
   ]
  },
  {
   "cell_type": "markdown",
   "id": "13be1f22",
   "metadata": {},
   "source": [
    "models.head()"
   ]
  },
  {
   "cell_type": "code",
   "execution_count": 23,
   "id": "1308c416",
   "metadata": {},
   "outputs": [
    {
     "data": {
      "text/html": [
       "<div>\n",
       "<style scoped>\n",
       "    .dataframe tbody tr th:only-of-type {\n",
       "        vertical-align: middle;\n",
       "    }\n",
       "\n",
       "    .dataframe tbody tr th {\n",
       "        vertical-align: top;\n",
       "    }\n",
       "\n",
       "    .dataframe thead th {\n",
       "        text-align: right;\n",
       "    }\n",
       "</style>\n",
       "<table border=\"1\" class=\"dataframe\">\n",
       "  <thead>\n",
       "    <tr style=\"text-align: right;\">\n",
       "      <th></th>\n",
       "      <th>model</th>\n",
       "      <th>mean</th>\n",
       "      <th>sd</th>\n",
       "    </tr>\n",
       "  </thead>\n",
       "  <tbody>\n",
       "    <tr>\n",
       "      <th>0</th>\n",
       "      <td>LinearRegression</td>\n",
       "      <td>3953.512410</td>\n",
       "      <td>608.678977</td>\n",
       "    </tr>\n",
       "    <tr>\n",
       "      <th>1</th>\n",
       "      <td>Lasso</td>\n",
       "      <td>3953.536977</td>\n",
       "      <td>608.524644</td>\n",
       "    </tr>\n",
       "    <tr>\n",
       "      <th>2</th>\n",
       "      <td>LassoCV</td>\n",
       "      <td>3955.828613</td>\n",
       "      <td>598.221506</td>\n",
       "    </tr>\n",
       "    <tr>\n",
       "      <th>3</th>\n",
       "      <td>LassoLars</td>\n",
       "      <td>3968.146450</td>\n",
       "      <td>581.050205</td>\n",
       "    </tr>\n",
       "    <tr>\n",
       "      <th>4</th>\n",
       "      <td>LassoLarsCV</td>\n",
       "      <td>3954.171901</td>\n",
       "      <td>608.760606</td>\n",
       "    </tr>\n",
       "    <tr>\n",
       "      <th>5</th>\n",
       "      <td>LassoLarsIC</td>\n",
       "      <td>3953.954008</td>\n",
       "      <td>608.776745</td>\n",
       "    </tr>\n",
       "    <tr>\n",
       "      <th>6</th>\n",
       "      <td>KNeighborsRegressor</td>\n",
       "      <td>3616.520196</td>\n",
       "      <td>963.769709</td>\n",
       "    </tr>\n",
       "    <tr>\n",
       "      <th>7</th>\n",
       "      <td>DecisionTreeRegressor</td>\n",
       "      <td>3886.645088</td>\n",
       "      <td>1090.178283</td>\n",
       "    </tr>\n",
       "    <tr>\n",
       "      <th>8</th>\n",
       "      <td>AdaBoostRegressor</td>\n",
       "      <td>4511.545824</td>\n",
       "      <td>576.075628</td>\n",
       "    </tr>\n",
       "    <tr>\n",
       "      <th>9</th>\n",
       "      <td>GradientBoostingRegressor</td>\n",
       "      <td>2824.773309</td>\n",
       "      <td>1221.961293</td>\n",
       "    </tr>\n",
       "  </tbody>\n",
       "</table>\n",
       "</div>"
      ],
      "text/plain": [
       "                       model         mean           sd\n",
       "0           LinearRegression  3953.512410   608.678977\n",
       "1                      Lasso  3953.536977   608.524644\n",
       "2                    LassoCV  3955.828613   598.221506\n",
       "3                  LassoLars  3968.146450   581.050205\n",
       "4                LassoLarsCV  3954.171901   608.760606\n",
       "5                LassoLarsIC  3953.954008   608.776745\n",
       "6        KNeighborsRegressor  3616.520196   963.769709\n",
       "7      DecisionTreeRegressor  3886.645088  1090.178283\n",
       "8          AdaBoostRegressor  4511.545824   576.075628\n",
       "9  GradientBoostingRegressor  2824.773309  1221.961293"
      ]
     },
     "execution_count": 23,
     "metadata": {},
     "output_type": "execute_result"
    }
   ],
   "source": [
    "m=[]\n",
    "sd=[]\n",
    "for i in range(0,len(s)):\n",
    "    m.append(s[i].mean())\n",
    "    sd.append(s[i].std())\n",
    "models=pd.read_csv('C:/Users/vasu/Desktop/rmodels.csv.txt')\n",
    "model_performance=pd.DataFrame({'model':models['name'],'mean':m,'sd':sd})\n",
    "model_performance"
   ]
  },
  {
   "cell_type": "raw",
   "id": "adc312b8",
   "metadata": {},
   "source": [
    "    "
   ]
  },
  {
   "cell_type": "code",
   "execution_count": 26,
   "id": "f98bd476",
   "metadata": {},
   "outputs": [],
   "source": [
    "\n",
    "test=pd.read_csv('c:/users/vasu/desktop/dts.csv')"
   ]
  },
  {
   "cell_type": "code",
   "execution_count": null,
   "id": "e2d641a6",
   "metadata": {},
   "outputs": [],
   "source": []
  },
  {
   "cell_type": "code",
   "execution_count": 27,
   "id": "bde9bda4",
   "metadata": {},
   "outputs": [],
   "source": [
    "test=data_cleaning(test)"
   ]
  },
  {
   "cell_type": "code",
   "execution_count": 76,
   "id": "5d4fa011",
   "metadata": {},
   "outputs": [],
   "source": []
  },
  {
   "cell_type": "code",
   "execution_count": 28,
   "id": "d1d8db3a",
   "metadata": {},
   "outputs": [],
   "source": [
    "def model_predictor(data,test):\n",
    "    models=pd.read_csv('C:/Users/vasu/Desktop/rmodels.csv.txt')\n",
    "    loc={}\n",
    "    for i in range(0,models['head'].count()):\n",
    "            str2='model'+'='+models['head'][i]+'.'+models['family'][i]+'.'+models['name'][i]+'()'\n",
    "            str1=\"from \"+models['head'][i]+'.'+models['family'][i]+\" import \"+models['name'][i]+'\\n'+\"model=\"+models['name'][i]+'()'\n",
    "            print(str2)\n",
    "            exec(str1,globals(), loc)\n",
    "            model=loc['model']\n",
    "            model.fit(data.drop(['Price'],axis=1),data['Price'])\n",
    "            pred=pd.DataFrame({'Price':model.predict(test)})\n",
    "            store='c:/users/vasu/Desktop/result'+str(i)+'.csv'\n",
    "            pred.to_csv(store,index=False)\n",
    "    "
   ]
  },
  {
   "cell_type": "code",
   "execution_count": 29,
   "id": "1a518daf",
   "metadata": {},
   "outputs": [
    {
     "name": "stdout",
     "output_type": "stream",
     "text": [
      "model=sklearn.linear_model.LinearRegression()\n",
      "model=sklearn.linear_model.Lasso()\n",
      "model=sklearn.linear_model.LassoCV()\n",
      "model=sklearn.linear_model.LassoLars()\n",
      "model=sklearn.linear_model.LassoLarsCV()\n",
      "model=sklearn.linear_model.LassoLarsIC()\n",
      "model=sklearn.neighbors.KNeighborsRegressor()\n",
      "model=sklearn.tree.DecisionTreeRegressor()\n",
      "model=sklearn.ensemble.AdaBoostRegressor()\n",
      "model=sklearn.ensemble.GradientBoostingRegressor()\n"
     ]
    }
   ],
   "source": [
    "model_predictor(clean_train_data,test)"
   ]
  },
  {
   "cell_type": "code",
   "execution_count": null,
   "id": "2a0bfd41",
   "metadata": {},
   "outputs": [],
   "source": []
  }
 ],
 "metadata": {
  "kernelspec": {
   "display_name": "Python 3",
   "language": "python",
   "name": "python3"
  },
  "language_info": {
   "codemirror_mode": {
    "name": "ipython",
    "version": 3
   },
   "file_extension": ".py",
   "mimetype": "text/x-python",
   "name": "python",
   "nbconvert_exporter": "python",
   "pygments_lexer": "ipython3",
   "version": "3.8.8"
  }
 },
 "nbformat": 4,
 "nbformat_minor": 5
}
